{
 "cells": [
  {
   "cell_type": "markdown",
   "metadata": {},
   "source": [
    "# Technical contradiction solving framework  \n",
    "\n",
    "This notebook implements the Contradiction Matrix solver using Natural Language Processing, including GPT models and word embeddings. The process contains the following steps:  \n",
    "1. Extract _improving_ and _preserving_ parameters from the problem description using LLM  \n",
    "2. Use _semantic similarity_ and _word embeddings_ to assign improving and preserving parameters  \n",
    "3. Identify relevant _Inventive Principles_\n",
    "4. Propose solution ideas using LLM  \n",
    "\n",
    "Problem definitions based on http://www.opensourcetriz.com"
   ]
  },
  {
   "cell_type": "markdown",
   "metadata": {},
   "source": [
    "## Framework showcase"
   ]
  },
  {
   "cell_type": "code",
   "execution_count": 2,
   "metadata": {},
   "outputs": [],
   "source": [
    "import pandas as pd\n",
    "import json\n",
    "import sys\n",
    "\n",
    "sys.path.append('..')\n",
    "\n",
    "from src.visualization import plot_settings\n",
    "from src.utility.functions import txt_to_list\n",
    "from src.utility.contradictions import formulate_contradiction, process_contradiction, solve_contradiction"
   ]
  },
  {
   "cell_type": "code",
   "execution_count": 3,
   "metadata": {},
   "outputs": [],
   "source": [
    "# Load data from files and convert to lists\n",
    "contradictions_file = '../data/raw/contradictions.txt'\n",
    "parameters_file = '../data/raw/parameters.txt'\n",
    "principles_file = '../data/raw/principles_desc.txt'\n",
    "\n",
    "contradictions_list = txt_to_list(contradictions_file)\n",
    "parameters_list = txt_to_list(parameters_file)\n",
    "principles_list = txt_to_list(principles_file)\n",
    "\n",
    "# Load the matrix into a pandas DataFrame\n",
    "matrix = pd.read_csv('../data/raw/matrix_values.csv', sep=';', header=None)\n",
    "matrix.index = parameters_list\n",
    "matrix.columns = parameters_list"
   ]
  },
  {
   "cell_type": "code",
   "execution_count": 4,
   "metadata": {},
   "outputs": [
    {
     "name": "stdout",
     "output_type": "stream",
     "text": [
      "Problem descriptions:\n",
      "1. Your company polishes the edges of glass plates. Thousands of plates are polished each day. The edges of the glass plates are polished on a fast moving belt covered with abrasive materials. One day an order comes in for polishing glass plates which are only .010 inches thick. The first attempts to polish the edges are catastrophic. The edges are chipped so badly that the plates are unusable. Due to the high volume of plates which are normally processed, it is not practical to change the machinery. The problem would go away if the plates were thicker, but they only come thin.\n",
      "2. High levels of radiation can damage the structure of cells and cause them to cease functioning. This is useful in the treatment of tumors. A beam of high energy radiation is focused on the tumor. After the procedure, the tumor shrinks. Unfortunately, the tissue surrounding the tumor is also damaged by the high energy radiation.\n",
      "3. A small ship building company considers a contract to build a super yacht. The yacht is so big that only a third will fit into their dock. “We will need to build this in the open harbor.” A frustrated engineer says. “ We can’t do that, we need the availability of lifts and tools.”\n",
      "4. The addition of bubbles to diving pools is a good way to keep diving injuries to a minimum. This is especially true when diving from great heights. Unfortunately, the diver is no longer buoyant in the water and finds it difficult to surface after a dive.\n",
      "5. A molecular wind is created by applying a very high voltage source to a very sharp object. The electrostatic field gradient at the tip is very high. Any stray electrons in the gas (knocked off by a stray gamma ray for example) are accelerated by the field and collide with other molecules causing an avalanche of charges seen as a “corona discharge”. The resulting ionized molecules are repelled from the charged object, causing a molecular wind. The wind is localized to the point and could be used to pump rarified gas, except that the movement of the gas is so small.\n"
     ]
    }
   ],
   "source": [
    "# Print 5 first problem descriptions\n",
    "print('Problem descriptions:')\n",
    "for i, contradiction in enumerate(contradictions_list[:5]):\n",
    "    print(f'{i+1}. {contradiction}')"
   ]
  },
  {
   "cell_type": "code",
   "execution_count": 5,
   "metadata": {},
   "outputs": [
    {
     "name": "stdout",
     "output_type": "stream",
     "text": [
      "Problem description:\n",
      "Your company polishes the edges of glass plates. Thousands of plates are polished each day. The edges of the glass plates are polished on a fast moving belt covered with abrasive materials. One day an order comes in for polishing glass plates which are only .010 inches thick. The first attempts to polish the edges are catastrophic. The edges are chipped so badly that the plates are unusable. Due to the high volume of plates which are normally processed, it is not practical to change the machinery. The problem would go away if the plates were thicker, but they only come thin.\n"
     ]
    }
   ],
   "source": [
    "# Test on individual example\n",
    "problem_desc = contradictions_list[0]\n",
    "print(f'Problem description:\\n{problem_desc}')\n",
    "\n",
    "output = formulate_contradiction(problem_desc)"
   ]
  },
  {
   "cell_type": "code",
   "execution_count": 6,
   "metadata": {},
   "outputs": [
    {
     "name": "stdout",
     "output_type": "stream",
     "text": [
      "Parameter changes:\n",
      "Adjust the temperature of the abrasive materials on the belt to be cooler, reducing the stress and impact on the thin glass plates during polishing.\n",
      "Segmentation:\n",
      "Divide the polishing process into two stages - first, polish the edges of thicker support plates that are more durable, then attach the thin glass plates to the support plates for final polishing to prevent chipping.\n",
      "Local quality:\n",
      "Introduce a non-uniformity in the abrasive materials on the belt, creating sections with varying abrasive intensity to match the different thicknesses of the glass plates.\n",
      "Cheap short-living objects:\n",
      "Replace the thin glass plates with slightly thicker but cheaper ones that are still within the acceptable thickness range, allowing for more forgiving polishing.\n",
      "Mechanics substitution:\n",
      "Replace the mechanical inspection of the polished edges with an optical system that can detect any chipping or defects in real-time, reducing the number of unusable plates produced.\n"
     ]
    }
   ],
   "source": [
    "# Process and solve technical contradiction\n",
    "principles = process_contradiction(output, matrix, principles_list, parameters_list)\n",
    "solutions = solve_contradiction(problem_desc, principles)\n",
    "\n",
    "for key, value in solutions.items():\n",
    "    print(f\"{key}:\\n{value}\")"
   ]
  },
  {
   "cell_type": "markdown",
   "metadata": {},
   "source": [
    "## Solve your problem"
   ]
  },
  {
   "cell_type": "code",
   "execution_count": 9,
   "metadata": {},
   "outputs": [],
   "source": [
    "indiv_problem_desc = \"Electric vehicles require batteries that offer long driving ranges and can be recharged quickly for user convenience. \\\n",
    "    However, there's a fundamental challenge: larger battery capacities, which provide extended range, typically take longer to charge. \\\n",
    "    This contradiction affects user satisfaction and the practical usability of EVs. The problem is developing a battery or charging solution \\\n",
    "    that minimizes charging time without sacrificing capacity or significantly increasing the overall cost. This solution should ideally integrate \\\n",
    "    into current EV designs and infrastructure without extensive modifications.\""
   ]
  },
  {
   "cell_type": "code",
   "execution_count": 10,
   "metadata": {},
   "outputs": [
    {
     "name": "stdout",
     "output_type": "stream",
     "text": [
      "Parameter changes:\n",
      "Implement battery technology that can dynamically adjust its internal temperature to optimize performance based on charging needs. By controlling temperature, the battery can charge faster without compromising capacity or durability.\n",
      "The other way round:\n",
      "Instead of focusing on faster charging of a larger capacity battery, consider designing a modular battery system where smaller capacity units can be swapped out quickly when needed. Users can swap out depleted batteries for fully charged ones in EV charging stations.\n",
      "Copying:\n",
      "Develop a cost-effective supercapacitor technology that can work alongside traditional batteries to provide quick energy bursts during acceleration or fast charging needs. Supercapacitors can be simpler in design and cost-effective to produce.\n",
      "Preliminary action:\n",
      "Implement a smart battery management system that actively monitors battery health and performance. By preemptively detecting issues or adjusting settings, the system can optimize charging processes for efficiency and longevity.\n",
      "Color changes:\n",
      "Integrate LED indicators on the exterior of the vehicle or the charging port that change color based on the charging status. This visual feedback can help users easily monitor the charging process and know when the battery is ready for use.\n"
     ]
    }
   ],
   "source": [
    "indiv_output = formulate_contradiction(indiv_problem_desc)\n",
    "indiv_principles = process_contradiction(indiv_output, matrix, principles_list, parameters_list)\n",
    "indiv_solutions = solve_contradiction(indiv_problem_desc, indiv_principles)\n",
    "\n",
    "for key, value in indiv_solutions.items():\n",
    "    print(f\"{key}:\\n{value}\")"
   ]
  },
  {
   "cell_type": "code",
   "execution_count": null,
   "metadata": {},
   "outputs": [],
   "source": []
  }
 ],
 "metadata": {
  "kernelspec": {
   "display_name": "triz-py312",
   "language": "python",
   "name": "python3"
  },
  "language_info": {
   "codemirror_mode": {
    "name": "ipython",
    "version": 3
   },
   "file_extension": ".py",
   "mimetype": "text/x-python",
   "name": "python",
   "nbconvert_exporter": "python",
   "pygments_lexer": "ipython3",
   "version": "3.12.2"
  }
 },
 "nbformat": 4,
 "nbformat_minor": 2
}
